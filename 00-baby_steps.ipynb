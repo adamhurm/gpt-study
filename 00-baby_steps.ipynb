{
 "cells": [
  {
   "cell_type": "markdown",
   "id": "8d7b6dd0-56bc-4489-8802-8a2c47b4fc67",
   "metadata": {},
   "source": [
    "# Trying out GPT API for the first _real_ time.\n",
    "\n",
    "This version is now outdated, so I will have to update the code.\n",
    "\n",
    "## [See the new version here](#updated-for-v10)"
   ]
  },
  {
   "cell_type": "code",
   "execution_count": 46,
   "id": "45f2815e-99e8-44dc-be6b-c876a73382c4",
   "metadata": {},
   "outputs": [
    {
     "name": "stdout",
     "output_type": "stream",
     "text": [
      "Note: you may need to restart the kernel to use updated packages.\n",
      "Note: you may need to restart the kernel to use updated packages.\n"
     ]
    }
   ],
   "source": [
    "%pip install -q openai==0.28\n",
    "%pip install -q python-dotenv"
   ]
  },
  {
   "cell_type": "code",
   "execution_count": 47,
   "id": "16a65dc5",
   "metadata": {},
   "outputs": [],
   "source": [
    "import openai\n",
    "from dotenv import load_dotenv\n",
    "import os\n",
    "\n",
    "load_dotenv()\n",
    "\n",
    "# api_key does not need to be specified (we use default var name)\n",
    "openai.api_key = os.environ['OPENAI_API_KEY']"
   ]
  },
  {
   "cell_type": "markdown",
   "id": "3e6ae223-096f-46da-8eaa-5d0cb6dc2324",
   "metadata": {},
   "source": [
    "This is the first example of '[Function calling](https://platform.openai.com/docs/guides/gpt/function-calling)' provided by OpenAI:"
   ]
  },
  {
   "cell_type": "code",
   "execution_count": 1,
   "id": "fa90593e-606b-4265-a916-a073cb593325",
   "metadata": {},
   "outputs": [
    {
     "name": "stdout",
     "output_type": "stream",
     "text": [
      "{\n",
      "  \"id\": \"chatcmpl-8Jo9QQwbPctEujY8nLRO13A59W1Wa\",\n",
      "  \"object\": \"chat.completion\",\n",
      "  \"created\": 1699731704,\n",
      "  \"model\": \"gpt-3.5-turbo-0613\",\n",
      "  \"choices\": [\n",
      "    {\n",
      "      \"index\": 0,\n",
      "      \"message\": {\n",
      "        \"role\": \"assistant\",\n",
      "        \"content\": \"The weather in Boston is currently sunny and windy with a temperature of 72 degrees.\"\n",
      "      },\n",
      "      \"finish_reason\": \"stop\"\n",
      "    }\n",
      "  ],\n",
      "  \"usage\": {\n",
      "    \"prompt_tokens\": 72,\n",
      "    \"completion_tokens\": 17,\n",
      "    \"total_tokens\": 89\n",
      "  }\n",
      "}\n"
     ]
    }
   ],
   "source": [
    "import openai\n",
    "import json\n",
    "\n",
    "messages = [{\"role\": \"user\", \"content\": \"What's the weather like in Boston?\"}]\n",
    "\n",
    "def get_current_weather(location, unit=\"fahrenheit\"):\n",
    "    \"\"\"Get the current weather in a given location\"\"\"\n",
    "    weather_info = {\n",
    "        \"location\": location,\n",
    "        \"temperature\": \"72\",\n",
    "        \"unit\": unit,\n",
    "        \"forecast\": [\"sunny\", \"windy\"],\n",
    "    }\n",
    "    return json.dumps(weather_info)\n",
    "\n",
    "def run_conversation():\n",
    "    # Step 1: send the conversation and available functions to GPT\n",
    "    messages = [{\"role\": \"user\", \"content\": \"What's the weather like in Boston?\"}]\n",
    "    functions = [\n",
    "        {\n",
    "            \"name\": \"get_current_weather\",\n",
    "            \"description\": \"Get the current weather in a given location\",\n",
    "            \"parameters\": {\n",
    "                \"type\": \"object\",\n",
    "                \"properties\": {\n",
    "                    \"location\": {\n",
    "                        \"type\": \"string\",\n",
    "                        \"description\": \"The city and state, e.g. San Francisco, CA\",\n",
    "                    },\n",
    "                    \"unit\": {\"type\": \"string\", \"enum\": [\"celsius\", \"fahrenheit\"]},\n",
    "                },\n",
    "                \"required\": [\"location\"],\n",
    "            },\n",
    "        }\n",
    "    ]\n",
    "    response = openai.ChatCompletion.create(\n",
    "        model=\"gpt-3.5-turbo-0613\",\n",
    "        messages=messages,\n",
    "        functions=functions,\n",
    "        function_call=\"auto\",  # auto is default, but we'll be explicit\n",
    "    )\n",
    "    response_message = response[\"choices\"][0][\"message\"]\n",
    "\n",
    "    # Step 2: check if GPT wanted to call a function\n",
    "    if response_message.get(\"function_call\"):\n",
    "        # Step 3: call the function\n",
    "        # Note: the JSON response may not always be valid; be sure to handle errors\n",
    "        available_functions = {\n",
    "            \"get_current_weather\": get_current_weather,\n",
    "        }  # only one function in this example, but you can have multiple\n",
    "        function_name = response_message[\"function_call\"][\"name\"]\n",
    "        function_to_call = available_functions[function_name]\n",
    "        function_args = json.loads(response_message[\"function_call\"][\"arguments\"])\n",
    "        function_response = function_to_call(\n",
    "            location=function_args.get(\"location\"),\n",
    "            unit=function_args.get(\"unit\"),\n",
    "        )\n",
    "\n",
    "        # Step 4: send the info on the function call and function response to GPT\n",
    "        messages.append(response_message)  # extend conversation with assistant's reply\n",
    "        messages.append(\n",
    "            {\n",
    "                \"role\": \"function\",\n",
    "                \"name\": function_name,\n",
    "                \"content\": function_response,\n",
    "            }\n",
    "        )  # extend conversation with function response\n",
    "        second_response = openai.ChatCompletion.create(\n",
    "            model=\"gpt-3.5-turbo-0613\",\n",
    "            messages=messages,\n",
    "        )  # get a new response from GPT where it can see the function response\n",
    "        return second_response\n",
    "\n",
    "print(run_conversation())\n"
   ]
  },
  {
   "cell_type": "code",
   "execution_count": 2,
   "id": "e7bb521a-c569-480e-b659-ee82a13d413f",
   "metadata": {
    "scrolled": true
   },
   "outputs": [
    {
     "name": "stdout",
     "output_type": "stream",
     "text": [
      "{\n",
      "  \"id\": \"chatcmpl-8Jo9ocOWZOQ4tM9Fl9mm4VzXTRPMy\",\n",
      "  \"object\": \"chat.completion\",\n",
      "  \"created\": 1699731728,\n",
      "  \"model\": \"gpt-3.5-turbo-0613\",\n",
      "  \"choices\": [\n",
      "    {\n",
      "      \"index\": 0,\n",
      "      \"message\": {\n",
      "        \"role\": \"assistant\",\n",
      "        \"content\": \"Yes, FilbertTheWizard is currently the super pal. How can I assist you today?\"\n",
      "      },\n",
      "      \"finish_reason\": \"stop\"\n",
      "    }\n",
      "  ],\n",
      "  \"usage\": {\n",
      "    \"prompt_tokens\": 102,\n",
      "    \"completion_tokens\": 19,\n",
      "    \"total_tokens\": 121\n",
      "  }\n",
      "}\n"
     ]
    }
   ],
   "source": [
    "# creating GPT functions that can validate things for me from parent python script\n",
    "def is_member_super_pal(member):\n",
    "    # call parent function that dynamically validates current super pal\n",
    "    if member == 'clippy':\n",
    "        return f\"No, {member} is not the super pal.\"\n",
    "    else:\n",
    "        return f\"Yes, {member} is the super pal.\"\n",
    "\n",
    "def run_conversation():\n",
    "# creating my own chat role\n",
    "    messages = [{\"role\": \"system\", \"content\": \"You are a helpful assistant named Super Pal Bot. \"\\\n",
    "                 \"You help the members of a small Discord community called Bringus. \"\\\n",
    "                 \"Each week a new super pal is chosen at random from the list of Bringus members. \"},\n",
    "                 #\"The current super pal has the ability to choose a new super pal or have one picked at random.\"},\n",
    "                #{\"role\": \"user\", \"content\": \"Is clippy currently pal?\"}]\n",
    "                {\"role\": \"user\", \"content\": \"Is FilbertTheWizard currently pal?\"}]\n",
    "    \n",
    "    functions = [\n",
    "            {\n",
    "                \"name\": \"is_member_super_pal\",\n",
    "                \"description\": \"Check if the given member is currently super pal\",\n",
    "                \"parameters\": {\n",
    "                    \"type\": \"object\",\n",
    "                    \"properties\": {\n",
    "                        \"member\": {\n",
    "                            \"type\": \"string\",\n",
    "                            \"description\": \"The member name, e.g. clippy\",\n",
    "                        },\n",
    "                    },\n",
    "                    \"required\": [\"member\"],\n",
    "                },\n",
    "            }\n",
    "        ]\n",
    "    \n",
    "    response = openai.ChatCompletion.create(\n",
    "        model=\"gpt-3.5-turbo-0613\",\n",
    "        messages=messages,\n",
    "        functions=functions\n",
    "    )\n",
    "    \n",
    "    response_message = response[\"choices\"][0][\"message\"]\n",
    "    \n",
    "    if response_message.get(\"function_call\"):\n",
    "        # Step 3: call the function\n",
    "        # Note: the JSON response may not always be valid; be sure to handle errors\n",
    "        available_functions = {\n",
    "            \"is_member_super_pal\": is_member_super_pal,\n",
    "        }\n",
    "        function_name = response_message[\"function_call\"][\"name\"]\n",
    "        function_to_call = available_functions[function_name]\n",
    "        function_args = json.loads(response_message[\"function_call\"][\"arguments\"])\n",
    "        function_response = function_to_call(\n",
    "            member=function_args.get(\"member\")\n",
    "        )\n",
    "    \n",
    "        # Step 4: send the info on the function call and function response to GPT\n",
    "        messages.append(response_message)  # extend conversation with assistant's reply\n",
    "        messages.append(\n",
    "            {\n",
    "                \"role\": \"function\",\n",
    "                \"name\": function_name,\n",
    "                \"content\": function_response,\n",
    "            }\n",
    "        )  # extend conversation with function response\n",
    "        second_response = openai.ChatCompletion.create(\n",
    "            model=\"gpt-3.5-turbo-0613\",\n",
    "            messages=messages\n",
    "        )  # get a new response from GPT where it can see the function response\n",
    "        return second_response\n",
    "\n",
    "print(run_conversation())"
   ]
  },
  {
   "cell_type": "markdown",
   "id": "fc104d91",
   "metadata": {},
   "source": [
    "# Updated for v1.0\n",
    "v1.0.0 Migration Guide:\n",
    "- [GitHub Discussion](https://github.com/openai/openai-python/discussions/742)\n",
    "- [learn.microsoft.com docs](https://learn.microsoft.com/en-us/azure/ai-services/openai/how-to/migration)"
   ]
  },
  {
   "cell_type": "code",
   "execution_count": 3,
   "id": "cad1e5e9",
   "metadata": {},
   "outputs": [
    {
     "name": "stdout",
     "output_type": "stream",
     "text": [
      "Collecting openai==1.2.3\n",
      "  Using cached openai-1.2.3-py3-none-any.whl.metadata (16 kB)\n",
      "Requirement already satisfied: anyio<4,>=3.5.0 in ./.venv/lib/python3.11/site-packages (from openai==1.2.3) (3.7.1)\n",
      "Requirement already satisfied: distro<2,>=1.7.0 in ./.venv/lib/python3.11/site-packages (from openai==1.2.3) (1.8.0)\n",
      "Requirement already satisfied: httpx<1,>=0.23.0 in ./.venv/lib/python3.11/site-packages (from openai==1.2.3) (0.25.1)\n",
      "Requirement already satisfied: pydantic<3,>=1.9.0 in ./.venv/lib/python3.11/site-packages (from openai==1.2.3) (2.4.2)\n",
      "Requirement already satisfied: tqdm>4 in ./.venv/lib/python3.11/site-packages (from openai==1.2.3) (4.66.1)\n",
      "Requirement already satisfied: typing-extensions<5,>=4.5 in ./.venv/lib/python3.11/site-packages (from openai==1.2.3) (4.8.0)\n",
      "Requirement already satisfied: idna>=2.8 in ./.venv/lib/python3.11/site-packages (from anyio<4,>=3.5.0->openai==1.2.3) (3.4)\n",
      "Requirement already satisfied: sniffio>=1.1 in ./.venv/lib/python3.11/site-packages (from anyio<4,>=3.5.0->openai==1.2.3) (1.3.0)\n",
      "Requirement already satisfied: certifi in ./.venv/lib/python3.11/site-packages (from httpx<1,>=0.23.0->openai==1.2.3) (2023.7.22)\n",
      "Requirement already satisfied: httpcore in ./.venv/lib/python3.11/site-packages (from httpx<1,>=0.23.0->openai==1.2.3) (1.0.1)\n",
      "Requirement already satisfied: annotated-types>=0.4.0 in ./.venv/lib/python3.11/site-packages (from pydantic<3,>=1.9.0->openai==1.2.3) (0.6.0)\n",
      "Requirement already satisfied: pydantic-core==2.10.1 in ./.venv/lib/python3.11/site-packages (from pydantic<3,>=1.9.0->openai==1.2.3) (2.10.1)\n",
      "Requirement already satisfied: h11<0.15,>=0.13 in ./.venv/lib/python3.11/site-packages (from httpcore->httpx<1,>=0.23.0->openai==1.2.3) (0.14.0)\n",
      "Using cached openai-1.2.3-py3-none-any.whl (220 kB)\n",
      "Installing collected packages: openai\n",
      "  Attempting uninstall: openai\n",
      "    Found existing installation: openai 0.28.0\n",
      "    Uninstalling openai-0.28.0:\n",
      "      Successfully uninstalled openai-0.28.0\n",
      "Successfully installed openai-1.2.3\n",
      "Note: you may need to restart the kernel to use updated packages.\n",
      "Requirement already satisfied: python-dotenv in ./.venv/lib/python3.11/site-packages (1.0.0)\n",
      "Note: you may need to restart the kernel to use updated packages.\n"
     ]
    }
   ],
   "source": [
    "%pip install openai==1.2.3\n",
    "%pip install python-dotenv"
   ]
  },
  {
   "cell_type": "code",
   "execution_count": 1,
   "id": "6cb49da9",
   "metadata": {},
   "outputs": [],
   "source": [
    "from openai import OpenAI\n",
    "import json, os\n",
    "\n",
    "# api_key does not need to be specified (we use default var name)\n",
    "client = OpenAI(api_key=os.environ['OPENAI_API_KEY'])"
   ]
  },
  {
   "cell_type": "markdown",
   "metadata": {},
   "source": [
    "[OpenAI \"chat\" Python docs](https://platform.openai.com/docs/api-reference/chat/)\n",
    "\n",
    "\n",
    "- Needed to update `functions` to [`tools`](https://platform.openai.com/docs/api-reference/chat/create?lang=python#chat-create-tools).\n",
    "- [`function_call`](https://platform.openai.com/docs/api-reference/chat/create?lang=python#chat-create-function_call) was deprecated in favor of `tool_choice`.\n",
    "- All the documentation and blog posts are innacurate now: [\\[1\\]](https://cookbook.openai.com/examples/how_to_call_functions_with_chat_models) [\\[2\\]](https://cookbook.openai.com/examples/how_to_call_functions_for_knowledge_retrieval) [\\[3\\]](https://platform.openai.com/docs/guides/function-calling)\n",
    "\n"
   ]
  },
  {
   "cell_type": "markdown",
   "metadata": {},
   "source": [
    "I'm going to move from ChatCompletions to [Assistants API](https://platform.openai.com/docs/assistants/overview/agents)([Assistants](https://platform.openai.com/docs/api-reference/assistants)) since there is new support and the older approach is being deprecated.\n",
    "\n",
    ">Text generation models are now capable of [JSON mode](https://platform.openai.com/docs/guides/text-generation/json-mode) and Reproducible outputs. We also launched the Assistants API to enable you to build agent-like experiences on top of our text-generation models. GPT-4 Turbo is available in preview by specifying gpt-4-1106-preview as the model name."
   ]
  },
  {
   "cell_type": "markdown",
   "metadata": {},
   "source": [
    "[api.md on openai-pythonGitHub repo](https://github.com/openai/openai-python/blob/baa9f07f5b503017ea6dae8f047d3cfc1ee22c37/api.md)\n",
    "\n",
    "[Managing threads and messages - OpenAI documentation](https://platform.openai.com/docs/assistants/how-it-works/managing-threads-and-messages)\n",
    "\n",
    "I can even dig into [Run Steps](https://platform.openai.com/docs/api-reference/runs/listRunSteps) if I want to \"explore  or display the inner workings of the Assistant and its tools\"."
   ]
  },
  {
   "cell_type": "code",
   "execution_count": 2,
   "metadata": {},
   "outputs": [],
   "source": [
    "# creating GPT functions that can validate things for me from parent python script\n",
    "def is_member_super_pal(member):\n",
    "    # call parent function that dynamically validates current super pal\n",
    "    if member == 'clippy':\n",
    "        return f\"No, {member} is not the super pal.\"\n",
    "    else:\n",
    "        return f\"Yes, {member} is the super pal.\"\n",
    "\n",
    "# using tools for Assistant API\n",
    "tools = [\n",
    "        {\n",
    "            \"type\": \"function\",\n",
    "            \"function\": {\n",
    "                \"name\": \"is_member_super_pal\",\n",
    "                \"description\": \"Check if the given member is currently super pal\",\n",
    "                \"parameters\": {\n",
    "                    \"type\": \"object\",\n",
    "                    \"properties\": {\n",
    "                        \"member\": {\n",
    "                            \"type\": \"string\",\n",
    "                            \"description\": \"The member name, e.g. clippy\",\n",
    "                        },\n",
    "                    },\n",
    "                    \"required\": [\"member\"],\n",
    "                }\n",
    "            }\n",
    "        }\n",
    "    ]\n",
    "\n",
    "# create assistant\n",
    "assistant = client.beta.assistants.create(\n",
    "    name=\"Super Pal Bot\",\n",
    "    instructions=\"You are a helpful assistant named Super Pal Bot. \"\\\n",
    "                 \"You help the members of a small Discord community called Bringus. \"\\\n",
    "                 \"Each week a new super pal is chosen at random from the list of Bringus members. \",\n",
    "    tools=tools,\n",
    "    model=\"gpt-3.5-turbo-1106\"\n",
    ")\n",
    "\n",
    "thread = client.beta.threads.create()\n",
    "\n",
    "message = client.beta.threads.messages.create(\n",
    "    thread_id=thread.id,\n",
    "    role=\"user\",\n",
    "    content=\"Is WilbertTheWizard currently super pal?\"\n",
    ")\n",
    "\n",
    "run = client.beta.threads.runs.create(\n",
    "    thread_id=thread.id,\n",
    "    assistant_id=assistant.id\n",
    "    #instructions=Additional optional instructions.\n",
    ")"
   ]
  },
  {
   "cell_type": "code",
   "execution_count": 3,
   "metadata": {},
   "outputs": [
    {
     "name": "stdout",
     "output_type": "stream",
     "text": [
      "Run: Run(id='run_4PRfKmcUMH3fHH1sM9HqcTKg', assistant_id='asst_2WotmHtCBRarRd2L0mk3WLch', cancelled_at=None, completed_at=None, created_at=1699731769, expires_at=1699732369, failed_at=None, file_ids=[], instructions='You are a helpful assistant named Super Pal Bot. You help the members of a small Discord community called Bringus. Each week a new super pal is chosen at random from the list of Bringus members. ', last_error=None, metadata={}, model='gpt-3.5-turbo-1106', object='thread.run', required_action=RequiredAction(submit_tool_outputs=RequiredActionSubmitToolOutputs(tool_calls=[RequiredActionFunctionToolCall(id='call_EihcQOVWBqpZRhBaFbx1WinF', function=Function(arguments='{\"member\":\"WilbertTheWizard\"}', name='is_member_super_pal'), type='function')]), type='submit_tool_outputs'), started_at=1699731769, status='requires_action', thread_id='thread_o8g1ljkkpKUdNWg11quqnjcp', tools=[ToolAssistantToolsFunction(function=FunctionDefinition(name='is_member_super_pal', parameters={'type': 'object', 'properties': {'member': {'type': 'string', 'description': 'The member name, e.g. clippy'}}, 'required': ['member']}, description='Check if the given member is currently super pal'), type='function')])\n",
      "Run | Status: requires_action\n",
      "Run | required_action: RequiredAction(submit_tool_outputs=RequiredActionSubmitToolOutputs(tool_calls=[RequiredActionFunctionToolCall(id='call_EihcQOVWBqpZRhBaFbx1WinF', function=Function(arguments='{\"member\":\"WilbertTheWizard\"}', name='is_member_super_pal'), type='function')]), type='submit_tool_outputs')\n",
      "Messages: SyncCursorPage[ThreadMessage](data=[ThreadMessage(id='msg_6hV3yOkxB6qk4ZZnhPx010ng', assistant_id=None, content=[MessageContentText(text=Text(annotations=[], value='Is WilbertTheWizard currently super pal?'), type='text')], created_at=1699731768, file_ids=[], metadata={}, object='thread.message', role='user', run_id=None, thread_id='thread_o8g1ljkkpKUdNWg11quqnjcp')], object='list', first_id='msg_6hV3yOkxB6qk4ZZnhPx010ng', last_id='msg_6hV3yOkxB6qk4ZZnhPx010ng', has_more=False)\n",
      "Messages | Data: [ThreadMessage(id='msg_6hV3yOkxB6qk4ZZnhPx010ng', assistant_id=None, content=[MessageContentText(text=Text(annotations=[], value='Is WilbertTheWizard currently super pal?'), type='text')], created_at=1699731768, file_ids=[], metadata={}, object='thread.message', role='user', run_id=None, thread_id='thread_o8g1ljkkpKUdNWg11quqnjcp')]\n"
     ]
    }
   ],
   "source": [
    "# retrieve run status\n",
    "run = client.beta.threads.runs.retrieve(\n",
    "    thread_id=thread.id,\n",
    "    run_id=run.id\n",
    ")\n",
    "# we expect to see run.status==\"requires_action\"\n",
    "print(f\"Run: {run}\")\n",
    "print(f\"Run | Status: {run.status}\")\n",
    "print(f\"Run | required_action: {run.required_action}\")\n",
    "\n",
    "# retrieve messages\n",
    "messages = client.beta.threads.messages.list(\n",
    "    thread_id=thread.id\n",
    ")\n",
    "# we expect to see only the user's message\n",
    "print(f\"Messages: {messages}\")\n",
    "print(f\"Messages | Data: {messages.data}\")\n"
   ]
  },
  {
   "cell_type": "code",
   "execution_count": 4,
   "metadata": {},
   "outputs": [],
   "source": [
    "# array of available tools for this assistant\n",
    "avail_tools = { \"is_member_super_pal\": is_member_super_pal }\n",
    "\n",
    "# retrieve tool function name, arguments, and call id\n",
    "tool_fn = avail_tools[run.required_action.\n",
    "                      submit_tool_outputs.tool_calls[0].\n",
    "                      function.name]\n",
    "tool_args = json.loads(run.required_action.\n",
    "                       submit_tool_outputs.tool_calls[0].\n",
    "                       function.arguments)\n",
    "tool_call_id = run.required_action.submit_tool_outputs.tool_calls[0].id\n",
    "\n",
    "# call tool function and save output\n",
    "tool_output = tool_fn(member=dict(tool_args).get('member'))\n",
    "\n",
    "# submit tools output\n",
    "run = client.beta.threads.runs.submit_tool_outputs(\n",
    "  thread_id=thread.id,\n",
    "  run_id=run.id,\n",
    "  tool_outputs=[\n",
    "      {\n",
    "        \"tool_call_id\": tool_call_id,\n",
    "        \"output\": tool_output,\n",
    "      }\n",
    "    ]\n",
    ")"
   ]
  },
  {
   "cell_type": "code",
   "execution_count": 28,
   "metadata": {},
   "outputs": [
    {
     "name": "stdout",
     "output_type": "stream",
     "text": [
      "Run Status | completed\n",
      "Message    | user: Is WilbertTheWizard currently super pal?\n",
      "Message    | assistant: Yes, WilbertTheWizard is currently the super pal! If you have any questions or need assistance, feel free to ask.\n"
     ]
    }
   ],
   "source": [
    "# retrieve run status\n",
    "run = client.beta.threads.runs.retrieve(\n",
    "    thread_id=thread.id,\n",
    "    run_id=run.id\n",
    ")\n",
    "# we expect to see run.status==\"completed\"\n",
    "print(f\"Run Status | {run.status}\")\n",
    "\n",
    "# retrieve messages\n",
    "messages = client.beta.threads.messages.list(\n",
    "    thread_id=thread.id\n",
    ")\n",
    "# sort messages into chronological order\n",
    "messages.data.sort(key=lambda x: x.created_at)\n",
    "# we expect to see GPT's response\n",
    "for message in messages.data:\n",
    "    print(f\"Message    | {message.role}: {message.content[0].text.value}\")"
   ]
  }
 ],
 "metadata": {
  "kernelspec": {
   "display_name": "Python 3 (ipykernel)",
   "language": "python",
   "name": "python3"
  },
  "language_info": {
   "codemirror_mode": {
    "name": "ipython",
    "version": 3
   },
   "file_extension": ".py",
   "mimetype": "text/x-python",
   "name": "python",
   "nbconvert_exporter": "python",
   "pygments_lexer": "ipython3",
   "version": "3.11.6"
  }
 },
 "nbformat": 4,
 "nbformat_minor": 5
}
